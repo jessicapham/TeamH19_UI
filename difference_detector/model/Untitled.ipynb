{
 "cells": [
  {
   "cell_type": "code",
   "execution_count": 7,
   "metadata": {},
   "outputs": [
    {
     "ename": "ImportError",
     "evalue": "cannot import name 'CAM' from 'pytorch_grad_cam' (D:\\anaconda3\\lib\\site-packages\\pytorch_grad_cam\\__init__.py)",
     "output_type": "error",
     "traceback": [
      "\u001b[1;31m---------------------------------------------------------------------------\u001b[0m",
      "\u001b[1;31mImportError\u001b[0m                               Traceback (most recent call last)",
      "\u001b[1;32mD:\\Github\\SeniorDesign\\model\\test_gradcam_pretrained.py\u001b[0m in \u001b[0;36m<module>\u001b[1;34m\u001b[0m\n\u001b[0;32m      6\u001b[0m \u001b[1;32mfrom\u001b[0m \u001b[0mPIL\u001b[0m \u001b[1;32mimport\u001b[0m \u001b[0mImage\u001b[0m\u001b[1;33m\u001b[0m\u001b[1;33m\u001b[0m\u001b[0m\n\u001b[0;32m      7\u001b[0m \u001b[1;32mfrom\u001b[0m \u001b[0mast\u001b[0m \u001b[1;32mimport\u001b[0m \u001b[0mliteral_eval\u001b[0m\u001b[1;33m\u001b[0m\u001b[1;33m\u001b[0m\u001b[0m\n\u001b[1;32m----> 8\u001b[1;33m \u001b[1;32mfrom\u001b[0m \u001b[0mpytorch_grad_cam\u001b[0m \u001b[1;32mimport\u001b[0m \u001b[0mCAM\u001b[0m\u001b[1;33m\u001b[0m\u001b[1;33m\u001b[0m\u001b[0m\n\u001b[0m\u001b[0;32m      9\u001b[0m \u001b[1;32mfrom\u001b[0m \u001b[0mpytorch_grad_cam\u001b[0m\u001b[1;33m.\u001b[0m\u001b[0mutils\u001b[0m\u001b[1;33m.\u001b[0m\u001b[0mimage\u001b[0m \u001b[1;32mimport\u001b[0m \u001b[0mshow_cam_on_image\u001b[0m\u001b[1;33m\u001b[0m\u001b[1;33m\u001b[0m\u001b[0m\n\u001b[0;32m     10\u001b[0m \u001b[1;32mfrom\u001b[0m \u001b[0mtorchvision\u001b[0m \u001b[1;32mimport\u001b[0m \u001b[0mtransforms\u001b[0m\u001b[1;33m\u001b[0m\u001b[1;33m\u001b[0m\u001b[0m\n",
      "\u001b[1;31mImportError\u001b[0m: cannot import name 'CAM' from 'pytorch_grad_cam' (D:\\anaconda3\\lib\\site-packages\\pytorch_grad_cam\\__init__.py)"
     ]
    }
   ],
   "source": [
    "%run test_gradcam_pretrained.py"
   ]
  },
  {
   "cell_type": "code",
   "execution_count": 6,
   "metadata": {},
   "outputs": [
    {
     "name": "stdout",
     "output_type": "stream",
     "text": [
      "Note: you may need to restart the kernel to use updated packages.\n"
     ]
    },
    {
     "name": "stderr",
     "output_type": "stream",
     "text": [
      "ERROR: Could not find a version that satisfies the requirement pytorch-grad-cam (from versions: none)\n",
      "ERROR: No matching distribution found for pytorch-grad-cam\n"
     ]
    }
   ],
   "source": [
    "pip install pytorch-grad-cam"
   ]
  },
  {
   "cell_type": "code",
   "execution_count": 5,
   "metadata": {},
   "outputs": [
    {
     "name": "stdout",
     "output_type": "stream",
     "text": [
      "Requirement already satisfied: grad-cam in d:\\anaconda3\\lib\\site-packages (1.2.3)\n",
      "Note: you may need to restart the kernel to use updated packages.\n"
     ]
    }
   ],
   "source": [
    "pip install grad-cam"
   ]
  },
  {
   "cell_type": "code",
   "execution_count": 7,
   "metadata": {},
   "outputs": [
    {
     "name": "stdout",
     "output_type": "stream",
     "text": [
      "Note: you may need to restart the kernel to use updated packages.\n"
     ]
    },
    {
     "name": "stderr",
     "output_type": "stream",
     "text": [
      "ERROR: Could not find a version that satisfies the requirement torch==1.8.1+cu102 (from versions: 0.1.2, 0.1.2.post1, 0.1.2.post2, 1.7.1, 1.8.0, 1.8.1)\n",
      "ERROR: No matching distribution found for torch==1.8.1+cu102\n"
     ]
    }
   ],
   "source": [
    "pip install torch==1.8.1+cu102 torchvision==0.9.1+cu102 torchaudio===0.8."
   ]
  },
  {
   "cell_type": "code",
   "execution_count": 3,
   "metadata": {},
   "outputs": [
    {
     "name": "stdout",
     "output_type": "stream",
     "text": [
      "Requirement already satisfied: cycler==0.10.0 in d:\\anaconda3\\lib\\site-packages (from -r requirements.txt (line 1)) (0.10.0)\n",
      "Collecting kiwisolver==1.3.1\n",
      "  Using cached kiwisolver-1.3.1-cp38-cp38-win_amd64.whl (51 kB)\n",
      "Collecting matplotlib==3.3.4\n",
      "  Using cached matplotlib-3.3.4-cp38-cp38-win_amd64.whl (8.5 MB)\n",
      "Collecting numpy==1.20.0\n",
      "  Using cached numpy-1.20.0-cp38-cp38-win_amd64.whl (13.7 MB)\n",
      "Requirement already satisfied: opencv-python==4.5.1.48 in d:\\anaconda3\\lib\\site-packages (from -r requirements.txt (line 5)) (4.5.1.48)\n",
      "Collecting pandas==1.2.1\n",
      "  Using cached pandas-1.2.1-cp38-cp38-win_amd64.whl (9.3 MB)\n",
      "Collecting Pillow==8.1.0\n",
      "  Using cached Pillow-8.1.0-cp38-cp38-win_amd64.whl (2.2 MB)\n",
      "Requirement already satisfied: pyparsing==2.4.7 in d:\\anaconda3\\lib\\site-packages (from -r requirements.txt (line 8)) (2.4.7)\n",
      "Requirement already satisfied: python-dateutil==2.8.1 in d:\\anaconda3\\lib\\site-packages (from -r requirements.txt (line 9)) (2.8.1)\n",
      "Collecting pytz==2021.1\n",
      "  Using cached pytz-2021.1-py2.py3-none-any.whl (510 kB)\n",
      "Collecting scipy==1.6.1\n",
      "  Using cached scipy-1.6.1-cp38-cp38-win_amd64.whl (32.7 MB)\n",
      "Requirement already satisfied: six==1.15.0 in d:\\anaconda3\\lib\\site-packages (from -r requirements.txt (line 12)) (1.15.0)\n",
      "Collecting torch==1.7.1\n",
      "  Using cached torch-1.7.1-cp38-cp38-win_amd64.whl (184.0 MB)\n",
      "Note: you may need to restart the kernel to use updated packages.\n"
     ]
    },
    {
     "name": "stderr",
     "output_type": "stream",
     "text": [
      "ERROR: Could not find a version that satisfies the requirement torchvision==0.8.2 (from -r requirements.txt (line 14)) (from versions: 0.1.6, 0.1.7, 0.1.8, 0.1.9, 0.2.0, 0.2.1, 0.2.2, 0.2.2.post2, 0.2.2.post3, 0.5.0, 0.9.0, 0.9.1)\n",
      "ERROR: No matching distribution found for torchvision==0.8.2 (from -r requirements.txt (line 14))\n"
     ]
    }
   ],
   "source": [
    "pip install -r requirements.txt"
   ]
  },
  {
   "cell_type": "code",
   "execution_count": 4,
   "metadata": {},
   "outputs": [
    {
     "name": "stdout",
     "output_type": "stream",
     "text": [
      "Requirement already satisfied: torchvision in d:\\anaconda3\\lib\\site-packages (0.9.1)\n",
      "Requirement already satisfied: numpy in c:\\users\\william gu\\appdata\\roaming\\python\\python38\\site-packages (from torchvision) (1.19.3)\n",
      "Requirement already satisfied: torch==1.8.1 in d:\\anaconda3\\lib\\site-packages (from torchvision) (1.8.1)\n",
      "Requirement already satisfied: pillow>=4.1.1 in d:\\anaconda3\\lib\\site-packages (from torchvision) (7.0.0)\n",
      "Requirement already satisfied: typing-extensions in d:\\anaconda3\\lib\\site-packages (from torch==1.8.1->torchvision) (3.7.4.3)\n",
      "Note: you may need to restart the kernel to use updated packages.\n"
     ]
    }
   ],
   "source": [
    "pip install torchvision"
   ]
  },
  {
   "cell_type": "code",
   "execution_count": 5,
   "metadata": {},
   "outputs": [
    {
     "name": "stdout",
     "output_type": "stream",
     "text": [
      "Requirement already satisfied: grad-cam in d:\\anaconda3\\lib\\site-packages (1.2.3)\n",
      "Note: you may need to restart the kernel to use updated packages.\n"
     ]
    }
   ],
   "source": [
    "pip install grad-cam"
   ]
  },
  {
   "cell_type": "code",
   "execution_count": 6,
   "metadata": {},
   "outputs": [
    {
     "name": "stdout",
     "output_type": "stream",
     "text": [
      "Requirement already satisfied: pytorch-gradcam in d:\\anaconda3\\lib\\site-packages (0.2.1)\n",
      "Requirement already satisfied: numpy in c:\\users\\william gu\\appdata\\roaming\\python\\python38\\site-packages (from pytorch-gradcam) (1.19.3)\n",
      "Requirement already satisfied: opencv-python in d:\\anaconda3\\lib\\site-packages (from pytorch-gradcam) (4.5.1.48)\n",
      "Note: you may need to restart the kernel to use updated packages.\n"
     ]
    }
   ],
   "source": [
    "pip install pytorch-gradcam"
   ]
  },
  {
   "cell_type": "code",
   "execution_count": null,
   "metadata": {},
   "outputs": [],
   "source": []
  }
 ],
 "metadata": {
  "kernelspec": {
   "display_name": "Python 3",
   "language": "python",
   "name": "python3"
  },
  "language_info": {
   "codemirror_mode": {
    "name": "ipython",
    "version": 3
   },
   "file_extension": ".py",
   "mimetype": "text/x-python",
   "name": "python",
   "nbconvert_exporter": "python",
   "pygments_lexer": "ipython3",
   "version": "3.8.5"
  }
 },
 "nbformat": 4,
 "nbformat_minor": 4
}
